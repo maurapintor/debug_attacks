{
 "cells": [
  {
   "cell_type": "code",
   "execution_count": 9,
   "metadata": {
    "collapsed": true
   },
   "outputs": [],
   "source": [
    "import secml.data\n",
    "import torch\n",
    "from torchvision import transforms\n",
    "\n",
    "from utils import download_gdrive\n",
    "from secml.array import CArray\n",
    "from secml.ml import CClassifierPyTorch\n",
    "from models.models import SparseResNet18\n",
    "import os\n",
    "import torch.utils.data\n",
    "from torchvision import datasets\n",
    "import numpy as np\n",
    "import foolbox as fb\n",
    "import matplotlib.pyplot as plt\n",
    "import pandas as pd\n",
    "from secml.adv.attacks import CFoolboxPGDLinf\n",
    "from secml.adv.seceval import CSecEval\n"
   ]
  },
  {
   "cell_type": "markdown",
   "source": [
    "# Load data and model"
   ],
   "metadata": {
    "collapsed": false
   }
  },
  {
   "cell_type": "code",
   "execution_count": 10,
   "outputs": [
    {
     "name": "stdout",
     "output_type": "stream",
     "text": [
      "Files already downloaded and verified\n"
     ]
    }
   ],
   "source": [
    "device = 'cuda' if torch.cuda.is_available() else 'cpu'\n",
    "torch.manual_seed(1)\n",
    "\n",
    "\n",
    "def load_model():\n",
    "    MODEL_ID = '1Af_owmMvg1LxjITLE1gFUmPx5idogeTP'  # google drive id\n",
    "    gamma = 0.1\n",
    "    filepath = f'kwta_spresnet18_{gamma}_cifar_adv.pth'\n",
    "    if not os.path.exists(filepath):\n",
    "        download_gdrive(MODEL_ID, filepath)\n",
    "    model = SparseResNet18(sparsities=[gamma, gamma, gamma, gamma], sparse_func='vol')\n",
    "    state_dict = torch.load(filepath, map_location=device)\n",
    "    model.load_state_dict(state_dict)\n",
    "    model.eval()\n",
    "    model.to(device)\n",
    "    return model\n",
    "\n",
    "\n",
    "def load_data(data_dir, dataset_name, shuffle=True,\n",
    "              train=True, transform=None, num_samples=None):\n",
    "    tr = [transforms.ToTensor()]\n",
    "    if transform is not None:\n",
    "        tr = [transforms.ToTensor(), transforms.Lambda(transform)]\n",
    "    transform = transforms.Compose(tr)\n",
    "\n",
    "    if dataset_name == 'CIFAR10':\n",
    "        dataset = datasets.CIFAR10(data_dir, train=train, transform=transform, download=True)\n",
    "    elif dataset_name == 'MNIST':\n",
    "        dataset = datasets.MNIST(data_dir, train=train, transform=transform, download=True)\n",
    "    else:\n",
    "        raise ValueError(f\"Dataset {dataset_name} not available.\")\n",
    "\n",
    "    if shuffle is True:\n",
    "        indexes = torch.randperm(len(dataset))\n",
    "    else:\n",
    "        indexes = torch.arange(0, len(dataset))\n",
    "\n",
    "    if num_samples is not None:\n",
    "        indexes = indexes[:min(len(dataset), num_samples)]\n",
    "    dataset = torch.utils.data.Subset(dataset, indexes)\n",
    "    loader = torch.utils.data.DataLoader(dataset, batch_size=N_SAMPLES)\n",
    "    x, y = next(iter(loader))\n",
    "    x, y = x.to(device), y.to(device)\n",
    "    return x, y\n",
    "\n",
    "\n",
    "model = load_model()\n",
    "# get samples from the dataset\n",
    "N_SAMPLES = 100\n",
    "images, labels = load_data('data', 'CIFAR10', num_samples=N_SAMPLES)\n",
    "epsilons = np.linspace(0.0, 8 / 255, num=10)"
   ],
   "metadata": {
    "collapsed": false,
    "pycharm": {
     "name": "#%%\n"
    }
   }
  },
  {
   "cell_type": "markdown",
   "source": [
    "# Foolbox evaluation\n"
   ],
   "metadata": {
    "collapsed": false
   }
  },
  {
   "cell_type": "code",
   "execution_count": 11,
   "outputs": [
    {
     "data": {
      "text/plain": "<matplotlib.legend.Legend at 0x7ff2f8903fd0>"
     },
     "execution_count": 11,
     "metadata": {},
     "output_type": "execute_result"
    },
    {
     "data": {
      "text/plain": "<Figure size 432x288 with 1 Axes>",
      "image/png": "[encoded data removed]"
     },
     "metadata": {
      "needs_background": "light"
     },
     "output_type": "display_data"
    }
   ],
   "source": [
    "from attacks.fmn import LInfFMNAttack\n",
    "\n",
    "bounds = (0, 1)\n",
    "fmodel = fb.PyTorchModel(model, bounds=bounds)\n",
    "fmodel = fmodel.transform_bounds((0, 1))\n",
    "\n",
    "attack = fb.attacks.LinfPGD(abs_stepsize=0.01, steps=40, random_start=False)\n",
    "\n",
    "raw, clipped, is_adv = attack(fmodel, images, labels, epsilons=epsilons)\n",
    "robust_accuracy_foolbox = 1 - is_adv.type(torch.FloatTensor).mean(axis=-1)\n",
    "\n",
    "plt.figure()\n",
    "plt.plot(epsilons, robust_accuracy_foolbox.numpy(), label='foolbox pgd')\n",
    "\n",
    "fmn = LInfFMNAttack(max_stepsize=10, gamma=0.01)\n",
    "raw_fmn, clipped_fmn, is_adv_fmn = fmn(fmodel, images, labels, epsilons=epsilons)\n",
    "robust_accuracy_foolbox_fmn = 1 - is_adv_fmn.type(torch.FloatTensor).mean(axis=-1)\n",
    "\n",
    "plt.plot(epsilons, robust_accuracy_foolbox_fmn.numpy(), label='fmn')\n",
    "\n",
    "\n",
    "plt.ylim([0, 1])\n",
    "plt.legend()\n"
   ],
   "metadata": {
    "collapsed": false,
    "pycharm": {
     "name": "#%%\n"
    }
   }
  },
  {
   "cell_type": "code",
   "execution_count": 11,
   "outputs": [],
   "source": [],
   "metadata": {
    "collapsed": false,
    "pycharm": {
     "name": "#%%\n"
    }
   }
  },
  {
   "cell_type": "code",
   "execution_count": 11,
   "outputs": [],
   "source": [],
   "metadata": {
    "collapsed": false,
    "pycharm": {
     "name": "#%%\n"
    }
   }
  },
  {
   "cell_type": "markdown",
   "source": [
    "# Secml Evaluation"
   ],
   "metadata": {
    "collapsed": false
   }
  },
  {
   "cell_type": "code",
   "execution_count": 12,
   "outputs": [],
   "source": [
    "clf = CClassifierPyTorch(model, input_shape=(3, 32, 32), pretrained=True,\n",
    "                         pretrained_classes=CArray(list(range(10))), preprocess=None)\n",
    "\n",
    "secml_attack = CFoolboxPGDLinf(clf, abs_stepsize=0.01, steps=40,\n",
    "                               random_start=False)  # same params as the foolbox defaults\n",
    "\n",
    "sec_eval = CSecEval(attack=secml_attack, param_name='epsilon', param_values=epsilons)\n",
    "\n",
    "test_set = secml.data.CDataset(CArray(images.view(N_SAMPLES, -1).cpu()), CArray(labels.cpu()))\n",
    "sec_eval.run_sec_eval(test_set)"
   ],
   "metadata": {
    "collapsed": false,
    "pycharm": {
     "name": "#%%\n"
    }
   }
  },
  {
   "cell_type": "code",
   "execution_count": 13,
   "outputs": [
    {
     "data": {
      "text/plain": "<matplotlib.legend.Legend at 0x7ff2f8bbbf70>"
     },
     "execution_count": 13,
     "metadata": {},
     "output_type": "execute_result"
    },
    {
     "data": {
      "text/plain": "<Figure size 432x288 with 1 Axes>",
      "image/png": "[encoded data removed]"
     },
     "metadata": {
      "needs_background": "light"
     },
     "output_type": "display_data"
    }
   ],
   "source": [
    "robust_accuracy_secml = [(sec_eval.sec_eval_data.Y_pred[i] == sec_eval.sec_eval_data.Y).mean() for i in\n",
    "                         range(len(epsilons))]\n",
    "plt.figure()\n",
    "plt.plot(epsilons, robust_accuracy_foolbox.numpy(), label='foolbox')\n",
    "plt.plot(epsilons, robust_accuracy_secml, label='secml+foolbox')\n",
    "plt.plot(epsilons, robust_accuracy_foolbox_fmn.numpy(), label='fmn')\n",
    "\n",
    "plt.ylim([0, 1])\n",
    "\n",
    "plt.legend()"
   ],
   "metadata": {
    "collapsed": false,
    "pycharm": {
     "name": "#%%\n"
    }
   }
  },
  {
   "cell_type": "code",
   "execution_count": 14,
   "outputs": [
    {
     "name": "stdout",
     "output_type": "stream",
     "text": [
      "   Attack Success  Silent Success  Break-point Angle  Increasing Loss  \\\n",
      "0             0.0             0.0           0.659288         0.682614   \n",
      "0             0.0             0.0           0.486804         0.693259   \n",
      "0             0.0             1.0           0.538541         0.623399   \n",
      "0             1.0             0.0           0.240400         0.620494   \n",
      "0             0.0             1.0           0.159201         0.672005   \n",
      "0             0.0             1.0           0.545638         0.696752   \n",
      "0             0.0             0.0           0.373150         0.807331   \n",
      "0             0.0             0.0           0.061933         0.680653   \n",
      "0             0.0             0.0           0.310576         0.563081   \n",
      "0             0.0             0.0           0.612215         0.695168   \n",
      "0             0.0             0.0           0.521073         0.724628   \n",
      "0             1.0             0.0           0.513358         0.466029   \n",
      "0             0.0             0.0           0.566807         0.804660   \n",
      "0             0.0             0.0           0.399245         0.796395   \n",
      "0             1.0             0.0           0.386300         0.508205   \n",
      "0             0.0             0.0           0.051660         0.967214   \n",
      "0             0.0             0.0           0.147798         0.689252   \n",
      "0             1.0             0.0           0.192701         0.517443   \n",
      "0             1.0             0.0           0.534517         0.628103   \n",
      "0             0.0             0.0           0.578432         0.798748   \n",
      "0             0.0             0.0           0.047090         0.631529   \n",
      "0             1.0             0.0           0.384769         0.625258   \n",
      "0             0.0             0.0           0.468333         0.710983   \n",
      "0             0.0             0.0           0.043565         0.725281   \n",
      "0             0.0             1.0           0.367460         0.690679   \n",
      "0             1.0             0.0           0.223395         0.594865   \n",
      "0             0.0             1.0           0.156331         0.705690   \n",
      "0             1.0             0.0           0.007747         0.813646   \n",
      "0             1.0             0.0           0.388900         0.534837   \n",
      "0             0.0             0.0           0.059289         0.670674   \n",
      "0             0.0             0.0           0.012331         0.672194   \n",
      "0             1.0             0.0           0.385669         0.558451   \n",
      "0             0.0             0.0           0.457828         0.561984   \n",
      "0             1.0             0.0           0.274465         0.466551   \n",
      "0             0.0             0.0           0.494064         0.731946   \n",
      "0             0.0             0.0           0.372835         0.639894   \n",
      "0             0.0             0.0           0.050169         0.592479   \n",
      "0             0.0             0.0           0.392825         0.657083   \n",
      "0             0.0             0.0           0.581326         0.739786   \n",
      "0             0.0             1.0           0.566499         0.762119   \n",
      "0             0.0             0.0           0.589412         0.787553   \n",
      "0             0.0             1.0           0.597514         0.719539   \n",
      "0             0.0             0.0           0.554205         0.802110   \n",
      "0             0.0             1.0           0.278280         0.518809   \n",
      "0             0.0             0.0           0.576932         0.766935   \n",
      "0             0.0             1.0           0.650669         0.614290   \n",
      "0             0.0             1.0           0.296341         0.534742   \n",
      "0             0.0             1.0           0.531145         0.678305   \n",
      "0             0.0             0.0           0.434072         0.711618   \n",
      "0             1.0             0.0           0.490644         0.712098   \n",
      "0             0.0             1.0           0.560127         0.423582   \n",
      "0             0.0             0.0           0.305026         0.446032   \n",
      "0             1.0             0.0           0.409674         0.526955   \n",
      "0             0.0             1.0           0.643983         0.619667   \n",
      "0             1.0             0.0           0.240949         0.501449   \n",
      "0             0.0             0.0           0.460662         0.902271   \n",
      "0             0.0             0.0           0.430900         0.575194   \n",
      "0             0.0             1.0           0.184576         0.572295   \n",
      "0             0.0             1.0           0.630729         0.797822   \n",
      "0             0.0             0.0           0.634659         0.809783   \n",
      "0             1.0             0.0           0.466733         0.641494   \n",
      "0             0.0             0.0           0.486778         0.681884   \n",
      "0             0.0             1.0           0.400940         0.737806   \n",
      "0             0.0             1.0           0.563658         0.666022   \n",
      "0             0.0             0.0           0.084323         0.675673   \n",
      "0             0.0             0.0           0.283076         0.556268   \n",
      "0             1.0             0.0           0.338423         0.394595   \n",
      "0             0.0             0.0           0.601904         0.882658   \n",
      "0             0.0             0.0           0.625752         0.797597   \n",
      "0             0.0             0.0           0.562607         0.941120   \n",
      "0             1.0             0.0           0.354651         0.608865   \n",
      "0             0.0             0.0           0.671992         0.867443   \n",
      "0             0.0             1.0           0.556711         0.583844   \n",
      "0             1.0             0.0           0.517145         0.658857   \n",
      "0             0.0             1.0           0.567428         0.834310   \n",
      "0             0.0             0.0           0.140199         0.670936   \n",
      "0             1.0             0.0           0.284726         0.460888   \n",
      "0             0.0             0.0           0.525224         0.695365   \n",
      "0             0.0             0.0           0.496864         0.715859   \n",
      "0             0.0             1.0           0.293456         0.594662   \n",
      "0             0.0             1.0           0.426555         0.575122   \n",
      "0             1.0             0.0           0.327857         0.585228   \n",
      "0             0.0             0.0           0.531675         0.768127   \n",
      "0             0.0             0.0           0.214952         0.681779   \n",
      "0             0.0             0.0           0.210188         0.714491   \n",
      "0             0.0             0.0           0.533789         0.790918   \n",
      "0             0.0             0.0           0.549070         0.752311   \n",
      "0             0.0             0.0           0.262459         0.791283   \n",
      "0             0.0             0.0           0.524164         0.721173   \n",
      "0             0.0             0.0           0.633798         0.845618   \n",
      "0             0.0             0.0           0.548589         0.713578   \n",
      "0             0.0             0.0           0.459682         0.765355   \n",
      "0             0.0             0.0           0.611885         0.927362   \n",
      "0             0.0             0.0           0.396025         0.669732   \n",
      "0             0.0             0.0           0.655773         0.791024   \n",
      "0             1.0             0.0           0.526935         0.579215   \n",
      "0             0.0             0.0           0.529405         0.664004   \n",
      "0             0.0             1.0           0.235538         0.648498   \n",
      "0             0.0             1.0           0.651902         0.818523   \n",
      "0             1.0             0.0           0.433173         0.592791   \n",
      "\n",
      "   Zero Gradients  Bad Initialization  Transfer Failure  \n",
      "0             0.0               False             False  \n",
      "0             0.0               False             False  \n",
      "0             0.0               False             False  \n",
      "0             0.0               False             False  \n",
      "0             0.0                True             False  \n",
      "0             0.0                True             False  \n",
      "0             0.0               False             False  \n",
      "0             0.0               False             False  \n",
      "0             0.0               False             False  \n",
      "0             0.0               False             False  \n",
      "0             0.0               False             False  \n",
      "0             0.0               False             False  \n",
      "0             0.0               False             False  \n",
      "0             0.0               False             False  \n",
      "0             0.0               False             False  \n",
      "0             0.0               False             False  \n",
      "0             0.0               False             False  \n",
      "0             0.0               False             False  \n",
      "0             0.0               False             False  \n",
      "0             0.0               False             False  \n",
      "0             0.0               False             False  \n",
      "0             0.0               False             False  \n",
      "0             0.0               False             False  \n",
      "0             0.0               False             False  \n",
      "0             0.0               False             False  \n",
      "0             0.0               False             False  \n",
      "0             0.0               False             False  \n",
      "0             0.0               False             False  \n",
      "0             0.0               False             False  \n",
      "0             0.0               False             False  \n",
      "0             0.0               False             False  \n",
      "0             0.0               False             False  \n",
      "0             0.0               False             False  \n",
      "0             0.0               False             False  \n",
      "0             0.0               False             False  \n",
      "0             0.0               False             False  \n",
      "0             0.0                True             False  \n",
      "0             0.0               False             False  \n",
      "0             0.0               False             False  \n",
      "0             0.0               False             False  \n",
      "0             0.0               False             False  \n",
      "0             0.0               False             False  \n",
      "0             0.0               False             False  \n",
      "0             0.0               False             False  \n",
      "0             0.0               False             False  \n",
      "0             0.0               False             False  \n",
      "0             0.0                True             False  \n",
      "0             0.0               False             False  \n",
      "0             0.0               False             False  \n",
      "0             0.0               False             False  \n",
      "0             0.0               False             False  \n",
      "0             0.0                True             False  \n",
      "0             0.0               False             False  \n",
      "0             0.0                True             False  \n",
      "0             0.0               False             False  \n",
      "0             0.0               False             False  \n",
      "0             0.0               False             False  \n",
      "0             0.0                True             False  \n",
      "0             0.0                True             False  \n",
      "0             0.0               False             False  \n",
      "0             0.0               False             False  \n",
      "0             0.0               False             False  \n",
      "0             0.0               False             False  \n",
      "0             0.0                True             False  \n",
      "0             0.0               False             False  \n",
      "0             0.0               False             False  \n",
      "0             0.0               False             False  \n",
      "0             0.0               False             False  \n",
      "0             0.0               False             False  \n",
      "0             0.0               False             False  \n",
      "0             0.0               False             False  \n",
      "0             0.0               False             False  \n",
      "0             0.0                True             False  \n",
      "0             0.0               False             False  \n",
      "0             0.0               False             False  \n",
      "0             0.0               False             False  \n",
      "0             0.0               False             False  \n",
      "0             0.0               False             False  \n",
      "0             0.0               False             False  \n",
      "0             0.0                True             False  \n",
      "0             0.0               False             False  \n",
      "0             0.0               False             False  \n",
      "0             0.0               False             False  \n",
      "0             0.0               False             False  \n",
      "0             0.0               False             False  \n",
      "0             0.0               False             False  \n",
      "0             0.0               False             False  \n",
      "0             0.0               False             False  \n",
      "0             0.0               False             False  \n",
      "0             0.0               False             False  \n",
      "0             0.0               False             False  \n",
      "0             0.0                True             False  \n",
      "0             0.0               False             False  \n",
      "0             0.0               False             False  \n",
      "0             0.0               False             False  \n",
      "0             0.0               False             False  \n",
      "0             0.0               False             False  \n",
      "0             0.0               False             False  \n",
      "0             0.0                True             False  \n",
      "0             0.0               False             False  \n"
     ]
    }
   ],
   "source": [
    "from indicators.indicators import compute_indicators\n",
    "\n",
    "all_indicators = []\n",
    "\n",
    "secml_attack_to_debug = CFoolboxPGDLinf(clf, abs_stepsize=0.01, steps=40,\n",
    "                               random_start=False, epsilons=8/255)\n",
    "\n",
    "for sample in range(N_SAMPLES):\n",
    "    x, y = test_set.X[sample, :], test_set.Y[sample]\n",
    "    pred = clf.predict(x)\n",
    "\n",
    "    indicators = compute_indicators(secml_attack_to_debug, x, y, clf, transfer_clf=None, n_restarts=3)\n",
    "    all_indicators.append(indicators)\n",
    "\n",
    "all_indicators_orig_eval = pd.concat(all_indicators, axis=0)\n",
    "\n",
    "with pd.option_context('display.max_rows', None,\n",
    "                       'display.max_columns', None):\n",
    "    print(all_indicators_orig_eval)\n"
   ],
   "metadata": {
    "collapsed": false,
    "pycharm": {
     "name": "#%%\n"
    }
   }
  },
  {
   "cell_type": "markdown",
   "source": [
    "# First, let's fix the implementation"
   ],
   "metadata": {
    "collapsed": false
   }
  },
  {
   "cell_type": "code",
   "execution_count": 15,
   "outputs": [
    {
     "data": {
      "text/plain": "<matplotlib.legend.Legend at 0x7ff2f87e6550>"
     },
     "execution_count": 15,
     "metadata": {},
     "output_type": "execute_result"
    },
    {
     "data": {
      "text/plain": "<Figure size 432x288 with 1 Axes>",
      "image/png": "[encoded data removed]"
     },
     "metadata": {
      "needs_background": "light"
     },
     "output_type": "display_data"
    }
   ],
   "source": [
    "from attacks.pgd_best_point import CFoolboxPGDBest\n",
    "\n",
    "patched_pgd = CFoolboxPGDBest(clf, abs_stepsize=0.01, steps=40,\n",
    "                               random_start=False, epsilons=8/255)\n",
    "\n",
    "sec_eval_patched = CSecEval(attack=patched_pgd, param_name='epsilon', param_values=epsilons)\n",
    "\n",
    "test_set = secml.data.CDataset(CArray(images.view(N_SAMPLES, -1).cpu()), CArray(labels.cpu()))\n",
    "sec_eval_patched.run_sec_eval(test_set)\n",
    "robust_accuracy_secml_patched = [(sec_eval_patched.sec_eval_data.Y_pred[i] == sec_eval_patched.sec_eval_data.Y).mean() for i in\n",
    "                         range(len(epsilons))]\n",
    "plt.figure()\n",
    "plt.plot(epsilons, robust_accuracy_foolbox.numpy(), label='foolbox')\n",
    "plt.plot(epsilons, robust_accuracy_secml, label='secml+foolbox')\n",
    "plt.plot(epsilons, robust_accuracy_secml_patched, label='secml+foolbox patched')\n",
    "plt.plot(epsilons, robust_accuracy_foolbox_fmn.numpy(), label='fmn')\n",
    "plt.ylim([0, 1])\n",
    "\n",
    "plt.legend()"
   ],
   "metadata": {
    "collapsed": false,
    "pycharm": {
     "name": "#%%\n"
    }
   }
  },
  {
   "cell_type": "markdown",
   "source": [
    "# Then, we can fix the noisy descent problem (detected with increasing loss + bad init)"
   ],
   "metadata": {
    "collapsed": false,
    "pycharm": {
     "name": "#%% md\n"
    }
   }
  },
  {
   "cell_type": "code",
   "execution_count": 16,
   "outputs": [],
   "source": [
    "from attacks.pgd_noisy_descent import CFoolboxAveragedPGD\n",
    "\n",
    "k = 10 # number of neighbors for smoothing\n",
    "patched_and_smoothed_pgd = CFoolboxAveragedPGD(clf, abs_stepsize=0.01, steps=40,\n",
    "                               random_start=False, epsilons=8/255, k=k)\n",
    "\n",
    "sec_eval_patched_2 = CSecEval(attack=patched_and_smoothed_pgd, param_name='epsilon', param_values=epsilons)\n",
    "\n",
    "test_set = secml.data.CDataset(CArray(images.view(N_SAMPLES, -1).cpu()), CArray(labels.cpu()))\n",
    "sec_eval_patched_2.run_sec_eval(test_set)"
   ],
   "metadata": {
    "collapsed": false,
    "pycharm": {
     "name": "#%%\n"
    }
   }
  },
  {
   "cell_type": "code",
   "execution_count": 17,
   "outputs": [
    {
     "data": {
      "text/plain": "<matplotlib.legend.Legend at 0x7ff2f8754a90>"
     },
     "execution_count": 17,
     "metadata": {},
     "output_type": "execute_result"
    },
    {
     "data": {
      "text/plain": "<Figure size 432x288 with 1 Axes>",
      "image/png": "[encoded data removed]"
     },
     "metadata": {
      "needs_background": "light"
     },
     "output_type": "display_data"
    }
   ],
   "source": [
    "robust_accuracy_secml_patched_2 = [(sec_eval_patched_2.sec_eval_data.Y_pred[i] == sec_eval_patched_2.sec_eval_data.Y).mean() for i in\n",
    "                         range(len(epsilons))]\n",
    "plt.figure()\n",
    "plt.plot(epsilons, robust_accuracy_foolbox.numpy(), label='foolbox')\n",
    "plt.plot(epsilons, robust_accuracy_secml, label='secml+foolbox')\n",
    "plt.plot(epsilons, robust_accuracy_secml_patched, label='secml+foolbox 1st patch')\n",
    "plt.plot(epsilons, robust_accuracy_secml_patched_2, label='secml+foolbox 2nd patch')\n",
    "plt.plot(epsilons, robust_accuracy_foolbox_fmn.numpy(), label='fmn')\n",
    "plt.ylim([0, 1])\n",
    "\n",
    "plt.legend()\n"
   ],
   "metadata": {
    "collapsed": false,
    "pycharm": {
     "name": "#%%\n"
    }
   }
  },
  {
   "cell_type": "code",
   "execution_count": 18,
   "outputs": [],
   "source": [
    "all_res = {\n",
    "    'pgd_foolbox': (epsilons.tolist(), robust_accuracy_foolbox.tolist(),),\n",
    "    'pgd_secml': (epsilons.tolist(), robust_accuracy_secml,),\n",
    "    'silent_success': (epsilons.tolist(), robust_accuracy_secml_patched,),\n",
    "    'smoothing': (epsilons.tolist(), robust_accuracy_secml_patched_2,),\n",
    "    'fmn_foolbox': (epsilons.tolist(), robust_accuracy_foolbox_fmn.tolist(),),\n",
    "}\n",
    "\n",
    "import json\n",
    "with open(\"results.json\", 'w') as f:\n",
    "    json.dump(all_res, f, indent=4)"
   ],
   "metadata": {
    "collapsed": false,
    "pycharm": {
     "name": "#%%"
    }
   }
  }
 ],
 "metadata": {
  "kernelspec": {
   "display_name": "Python 3",
   "language": "python",
   "name": "python3"
  },
  "language_info": {
   "codemirror_mode": {
    "name": "ipython",
    "version": 2
   },
   "file_extension": ".py",
   "mimetype": "text/x-python",
   "name": "python",
   "nbconvert_exporter": "python",
   "pygments_lexer": "ipython2",
   "version": "2.7.6"
  }
 },
 "nbformat": 4,
 "nbformat_minor": 0
}