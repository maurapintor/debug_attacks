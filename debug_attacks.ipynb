{
 "cells": [
  {
   "cell_type": "code",
   "execution_count": 1,
   "metadata": {
    "collapsed": true
   },
   "outputs": [],
   "source": [
    "import secml.data\n",
    "import torch\n",
    "from torchvision import transforms\n",
    "\n",
    "from utils import download_gdrive\n",
    "from secml.array import CArray\n",
    "from secml.ml import CClassifierPyTorch, CNormalizerMeanStd\n",
    "from models.models import SparseResNet18\n",
    "import os\n",
    "import torch.utils.data\n",
    "from torchvision import datasets\n",
    "import numpy as np\n",
    "import matplotlib.pyplot as plt\n",
    "import pandas as pd\n",
    "from secml.adv.attacks import CFoolboxPGDLinf\n"
   ]
  },
  {
   "cell_type": "markdown",
   "source": [
    "# Load data and model"
   ],
   "metadata": {
    "collapsed": false
   }
  },
  {
   "cell_type": "code",
   "execution_count": 2,
   "outputs": [
    {
     "name": "stdout",
     "output_type": "stream",
     "text": [
      "Files already downloaded and verified\n"
     ]
    }
   ],
   "source": [
    "device = 'cuda' if torch.cuda.is_available() else 'cpu'\n",
    "torch.manual_seed(1)\n",
    "\n",
    "\n",
    "def load_model():\n",
    "    MODEL_ID = '1Af_owmMvg1LxjITLE1gFUmPx5idogeTP'  # google drive id\n",
    "    gamma = 0.1\n",
    "    filepath = f'kwta_spresnet18_{gamma}_cifar_adv.pth'\n",
    "    if not os.path.exists(filepath):\n",
    "        download_gdrive(MODEL_ID, filepath)\n",
    "    model = SparseResNet18(sparsities=[gamma, gamma, gamma, gamma], sparse_func='vol')\n",
    "    state_dict = torch.load(filepath, map_location=device)\n",
    "    model.load_state_dict(state_dict)\n",
    "    model.eval()\n",
    "    model.to(device)\n",
    "    return model\n",
    "\n",
    "\n",
    "def load_data(data_dir, dataset_name, shuffle=True,\n",
    "              train=True, transform=None, num_samples=None):\n",
    "    tr = [transforms.ToTensor()]\n",
    "    if transform is not None:\n",
    "        tr = [transforms.ToTensor(), transforms.Lambda(transform)]\n",
    "    transform = transforms.Compose(tr)\n",
    "\n",
    "    if dataset_name == 'CIFAR10':\n",
    "        dataset = datasets.CIFAR10(data_dir, train=train, transform=transform, download=True)\n",
    "    elif dataset_name == 'MNIST':\n",
    "        dataset = datasets.MNIST(data_dir, train=train, transform=transform, download=True)\n",
    "    else:\n",
    "        raise ValueError(f\"Dataset {dataset_name} not available.\")\n",
    "\n",
    "    if shuffle is True:\n",
    "        indexes = torch.randperm(len(dataset))\n",
    "    else:\n",
    "        indexes = torch.arange(0, len(dataset))\n",
    "\n",
    "    if num_samples is not None:\n",
    "        indexes = indexes[:min(len(dataset), num_samples)]\n",
    "    dataset = torch.utils.data.Subset(dataset, indexes)\n",
    "    loader = torch.utils.data.DataLoader(dataset, batch_size=N_SAMPLES)\n",
    "    x, y = next(iter(loader))\n",
    "    x, y = x.to(device), y.to(device)\n",
    "    return x, y\n",
    "\n",
    "\n",
    "abs_step_size = 0.01\n",
    "random_start = False\n",
    "steps = 50\n",
    "epsilons = np.linspace(0.0, 16 / 255, num=10)\n",
    "epsilon = 8/255 # this is used for computing the indicators\n",
    "model = load_model()\n",
    "# get samples from the dataset\n",
    "N_SAMPLES = 100\n",
    "images, labels = load_data('data', 'CIFAR10', num_samples=N_SAMPLES)"
   ],
   "metadata": {
    "collapsed": false,
    "pycharm": {
     "name": "#%%\n"
    }
   }
  },
  {
   "cell_type": "markdown",
   "source": [
    "# Secml Evaluation"
   ],
   "metadata": {
    "collapsed": false
   }
  },
  {
   "cell_type": "code",
   "execution_count": 3,
   "outputs": [],
   "source": [
    "def security_evaluation(model, dataset, attack, param_name, param_values):\n",
    "    preds = model.predict(dataset.X)\n",
    "    misclassified = preds != dataset.Y\n",
    "    results = []\n",
    "    for param_value in param_values:\n",
    "        attack.set(param_name, param_value)\n",
    "        samples_to_test_idx = np.where(misclassified.logical_not().tondarray())[0]\n",
    "        samples_to_test = dataset[samples_to_test_idx.tolist(), :]\n",
    "        y_pred_adv, scores, adv_ds, fobj = attack.run(samples_to_test.X, samples_to_test.Y)\n",
    "        now_misclassified = y_pred_adv != adv_ds.Y\n",
    "        now_misclassified = samples_to_test_idx[now_misclassified.ravel().tolist()]\n",
    "        misclassified[now_misclassified.tolist()] = True\n",
    "        results += [(dataset.X.shape[0] - misclassified.sum())]\n",
    "    results = [r / dataset.X.shape[0] for r in results]\n",
    "    return results\n"
   ],
   "metadata": {
    "collapsed": false,
    "pycharm": {
     "name": "#%%\n"
    }
   }
  },
  {
   "cell_type": "code",
   "execution_count": 4,
   "outputs": [],
   "source": [
    "normalizer = CNormalizerMeanStd(mean=(0, 0, 0), std=(1, 1, 1))\n",
    "clf = CClassifierPyTorch(model, input_shape=(3, 32, 32), pretrained=True,\n",
    "                         pretrained_classes=CArray(list(range(10))), preprocess=normalizer)\n",
    "\n",
    "secml_attack = CFoolboxPGDLinf(clf, abs_stepsize=abs_step_size, steps=steps,\n",
    "                               random_start=random_start, epsilons=epsilon)\n",
    "\n",
    "test_set = secml.data.CDataset(CArray(images.view(N_SAMPLES, -1).cpu()), CArray(labels.cpu()))\n",
    "y_pred, _, adv_ds, _ = secml_attack.run(test_set.X, test_set.Y)\n",
    "success = y_pred != adv_ds.Y\n",
    "\n",
    "clf = CClassifierPyTorch(model, input_shape=(3, 32, 32), pretrained=True,\n",
    "                         pretrained_classes=CArray(list(range(10))), preprocess=None)\n",
    "\n",
    "secml_attack = CFoolboxPGDLinf(clf, abs_stepsize=0.01, steps=40,\n",
    "                               random_start=False)  # same params as the foolbox defaults\n",
    "\n",
    "\n",
    "test_set = secml.data.CDataset(CArray(images.view(N_SAMPLES, -1).cpu()), CArray(labels.cpu()))"
   ],
   "metadata": {
    "collapsed": false,
    "pycharm": {
     "name": "#%%\n"
    }
   }
  },
  {
   "cell_type": "code",
   "execution_count": 5,
   "outputs": [],
   "source": [
    "pgd_sec_eval = security_evaluation(clf, test_set, secml_attack, 'epsilon', epsilons)"
   ],
   "metadata": {
    "collapsed": false,
    "pycharm": {
     "name": "#%%\n"
    }
   }
  },
  {
   "cell_type": "code",
   "execution_count": 6,
   "outputs": [
    {
     "data": {
      "text/plain": "<matplotlib.legend.Legend at 0x7f25b5e504c0>"
     },
     "execution_count": 6,
     "metadata": {},
     "output_type": "execute_result"
    },
    {
     "data": {
      "text/plain": "<Figure size 432x288 with 1 Axes>",
      "image/png": "[encoded data removed]"
     },
     "metadata": {
      "needs_background": "light"
     },
     "output_type": "display_data"
    }
   ],
   "source": [
    "plt.figure()\n",
    "plt.plot(epsilons, pgd_sec_eval, label='secml PGD')\n",
    "\n",
    "plt.ylim([0, 1])\n",
    "\n",
    "plt.legend()"
   ],
   "metadata": {
    "collapsed": false,
    "pycharm": {
     "name": "#%%\n"
    }
   }
  },
  {
   "cell_type": "code",
   "execution_count": 7,
   "outputs": [
    {
     "name": "stdout",
     "output_type": "stream",
     "text": [
      "\n",
      "\n",
      "Average Indicators\n",
      "Attack Success       0.350000\n",
      "Silent Success       0.250000\n",
      "Break-point Angle    0.400113\n",
      "Increasing Loss      0.676019\n",
      "Zero Gradients       0.000000\n",
      "dtype: float64\n"
     ]
    }
   ],
   "source": [
    "import copy\n",
    "from indicators.indicators import compute_indicators\n",
    "\n",
    "all_indicators = []\n",
    "\n",
    "for sample in range(N_SAMPLES):\n",
    "    x, y = test_set.X[sample, :], test_set.Y[sample]\n",
    "    pred = clf.predict(x)\n",
    "\n",
    "    indicators = compute_indicators(copy.deepcopy(secml_attack), x, y, clf)\n",
    "    all_indicators.append(indicators)\n",
    "\n",
    "all_indicators_orig_eval = pd.concat(all_indicators, axis=0, ignore_index=True)\n",
    "\n",
    "with pd.option_context('display.max_rows', None,\n",
    "                       'display.max_columns', None):\n",
    "    print(\"\\n\\nAverage Indicators\")\n",
    "    print(all_indicators_orig_eval.mean())"
   ],
   "metadata": {
    "collapsed": false,
    "pycharm": {
     "name": "#%%\n"
    }
   }
  },
  {
   "cell_type": "code",
   "execution_count": 8,
   "outputs": [
    {
     "data": {
      "text/plain": "<Figure size 1800x360 with 5 Axes>",
      "image/png": "[encoded data removed]"
     },
     "metadata": {
      "needs_background": "light"
     },
     "output_type": "display_data"
    }
   ],
   "source": [
    "import seaborn as sns\n",
    "n_cols = len(all_indicators_orig_eval.columns)\n",
    "fig, axes = plt.subplots(nrows=1, ncols=n_cols, figsize=(25, 5))\n",
    "for i, column in enumerate(all_indicators_orig_eval):\n",
    "    sns.histplot(all_indicators_orig_eval[column], ax=axes[i], bins=5, binrange=[0, 1], stat='probability').set_title(column)\n"
   ],
   "metadata": {
    "collapsed": false,
    "pycharm": {
     "name": "#%%\n"
    }
   }
  },
  {
   "cell_type": "markdown",
   "source": [
    "# First, let's fix the implementation"
   ],
   "metadata": {
    "collapsed": false
   }
  },
  {
   "cell_type": "code",
   "execution_count": 9,
   "outputs": [],
   "source": [
    "from attacks.pgd_best_point import CFoolboxPGDBest\n",
    "\n",
    "patched_pgd = CFoolboxPGDBest(clf, abs_stepsize=0.01, steps=40,\n",
    "                               random_start=False, epsilons=8/255)\n",
    "\n",
    "sec_eval_patched = security_evaluation(clf, test_set, patched_pgd, 'epsilon', epsilons)\n",
    "\n",
    "test_set = secml.data.CDataset(CArray(images.view(N_SAMPLES, -1).cpu()), CArray(labels.cpu()))\n"
   ],
   "metadata": {
    "collapsed": false,
    "pycharm": {
     "name": "#%%\n"
    }
   }
  },
  {
   "cell_type": "code",
   "execution_count": 10,
   "outputs": [
    {
     "data": {
      "text/plain": "<matplotlib.legend.Legend at 0x7f25b4025d60>"
     },
     "execution_count": 10,
     "metadata": {},
     "output_type": "execute_result"
    },
    {
     "data": {
      "text/plain": "<Figure size 432x288 with 1 Axes>",
      "image/png": "[encoded data removed]"
     },
     "metadata": {
      "needs_background": "light"
     },
     "output_type": "display_data"
    }
   ],
   "source": [
    "plt.figure()\n",
    "plt.plot(epsilons, pgd_sec_eval, label='secml PGD')\n",
    "plt.plot(epsilons, sec_eval_patched, label='PGD patched silent success')\n",
    "plt.ylim([0, 1])\n",
    "\n",
    "plt.legend()"
   ],
   "metadata": {
    "collapsed": false,
    "pycharm": {
     "name": "#%%\n"
    }
   }
  },
  {
   "cell_type": "markdown",
   "source": [
    "# Then, we can fix the noisy descent problem (detected with increasing loss + bad init)"
   ],
   "metadata": {
    "collapsed": false,
    "pycharm": {
     "name": "#%% md\n"
    }
   }
  },
  {
   "cell_type": "code",
   "execution_count": 11,
   "outputs": [],
   "source": [
    "from attacks.pgd_noisy_descent import CFoolboxAveragedPGD\n",
    "\n",
    "k = 50 # number of neighbors for smoothing\n",
    "patched_and_smoothed_pgd = CFoolboxAveragedPGD(clf, abs_stepsize=0.01, steps=40,\n",
    "                               random_start=False, epsilons=8/255, k=k)\n",
    "\n",
    "sec_eval_patched_2 = security_evaluation(clf, test_set, patched_and_smoothed_pgd, 'epsilon', epsilons)\n",
    "\n",
    "test_set = secml.data.CDataset(CArray(images.view(N_SAMPLES, -1).cpu()), CArray(labels.cpu()))\n"
   ],
   "metadata": {
    "collapsed": false,
    "pycharm": {
     "name": "#%%\n"
    }
   }
  },
  {
   "cell_type": "code",
   "execution_count": 14,
   "outputs": [
    {
     "data": {
      "text/plain": "<matplotlib.legend.Legend at 0x7f25b5e0f490>"
     },
     "execution_count": 14,
     "metadata": {},
     "output_type": "execute_result"
    },
    {
     "data": {
      "text/plain": "<Figure size 432x288 with 1 Axes>",
      "image/png": "[encoded data removed]"
     },
     "metadata": {
      "needs_background": "light"
     },
     "output_type": "display_data"
    }
   ],
   "source": [
    "\n",
    "plt.figure()\n",
    "plt.plot(epsilons, pgd_sec_eval, label='secml PGD')\n",
    "plt.plot(epsilons, sec_eval_patched, label='PGD patched silent success')\n",
    "plt.plot(epsilons, sec_eval_patched_2, label='PGD patched noisy descent')\n",
    "plt.ylim([0, 1])\n",
    "\n",
    "plt.legend()\n"
   ],
   "metadata": {
    "collapsed": false,
    "pycharm": {
     "name": "#%%\n"
    }
   }
  },
  {
   "cell_type": "code",
   "execution_count": 13,
   "outputs": [],
   "source": [
    "all_res = {\n",
    "    'pgd_secml': (epsilons.tolist(), pgd_sec_eval,),\n",
    "    'silent_success': (epsilons.tolist(), sec_eval_patched,),\n",
    "    'smoothing': (epsilons.tolist(), sec_eval_patched_2,),\n",
    "}\n",
    "\n",
    "import json\n",
    "with open(\"results.json\", 'w') as f:\n",
    "    json.dump(all_res, f, indent=4)"
   ],
   "metadata": {
    "collapsed": false,
    "pycharm": {
     "name": "#%%"
    }
   }
  }
 ],
 "metadata": {
  "kernelspec": {
   "display_name": "Python 3",
   "language": "python",
   "name": "python3"
  },
  "language_info": {
   "codemirror_mode": {
    "name": "ipython",
    "version": 2
   },
   "file_extension": ".py",
   "mimetype": "text/x-python",
   "name": "python",
   "nbconvert_exporter": "python",
   "pygments_lexer": "ipython2",
   "version": "2.7.6"
  }
 },
 "nbformat": 4,
 "nbformat_minor": 0
}