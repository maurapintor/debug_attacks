{
 "cells": [
  {
   "cell_type": "code",
   "execution_count": 13,
   "metadata": {
    "collapsed": true
   },
   "outputs": [],
   "source": [
    "import secml.data\n",
    "import torch\n",
    "from torchvision import transforms\n",
    "\n",
    "from utils import download_gdrive\n",
    "from secml.array import CArray\n",
    "from secml.ml import CClassifierPyTorch\n",
    "from models.models import SparseResNet18\n",
    "import os\n",
    "import torch.utils.data\n",
    "from torchvision import datasets\n",
    "import numpy as np\n",
    "import foolbox as fb\n",
    "import matplotlib.pyplot as plt\n",
    "import pandas as pd\n",
    "from secml.adv.attacks import CFoolboxPGDLinf\n",
    "from secml.adv.seceval import CSecEval\n"
   ]
  },
  {
   "cell_type": "markdown",
   "source": [
    "# Load data and model"
   ],
   "metadata": {
    "collapsed": false
   }
  },
  {
   "cell_type": "code",
   "execution_count": 14,
   "outputs": [
    {
     "name": "stdout",
     "output_type": "stream",
     "text": [
      "Files already downloaded and verified\n"
     ]
    }
   ],
   "source": [
    "device = 'cuda' if torch.cuda.is_available() else 'cpu'\n",
    "torch.manual_seed(1)\n",
    "\n",
    "\n",
    "def load_model():\n",
    "    MODEL_ID = '1Af_owmMvg1LxjITLE1gFUmPx5idogeTP'  # google drive id\n",
    "    gamma = 0.1\n",
    "    filepath = f'kwta_spresnet18_{gamma}_cifar_adv.pth'\n",
    "    if not os.path.exists(filepath):\n",
    "        download_gdrive(MODEL_ID, filepath)\n",
    "    model = SparseResNet18(sparsities=[gamma, gamma, gamma, gamma], sparse_func='vol')\n",
    "    state_dict = torch.load(filepath, map_location=device)\n",
    "    model.load_state_dict(state_dict)\n",
    "    model.eval()\n",
    "    model.to(device)\n",
    "    return model\n",
    "\n",
    "\n",
    "def load_data(data_dir, dataset_name, shuffle=True,\n",
    "              train=True, transform=None, num_samples=None):\n",
    "    tr = [transforms.ToTensor()]\n",
    "    if transform is not None:\n",
    "        tr = [transforms.ToTensor(), transforms.Lambda(transform)]\n",
    "    transform = transforms.Compose(tr)\n",
    "\n",
    "    if dataset_name == 'CIFAR10':\n",
    "        dataset = datasets.CIFAR10(data_dir, train=train, transform=transform, download=True)\n",
    "    elif dataset_name == 'MNIST':\n",
    "        dataset = datasets.MNIST(data_dir, train=train, transform=transform, download=True)\n",
    "    else:\n",
    "        raise ValueError(f\"Dataset {dataset_name} not available.\")\n",
    "\n",
    "    if shuffle is True:\n",
    "        indexes = torch.randperm(len(dataset))\n",
    "    else:\n",
    "        indexes = torch.arange(0, len(dataset))\n",
    "\n",
    "    if num_samples is not None:\n",
    "        indexes = indexes[:min(len(dataset), num_samples)]\n",
    "    dataset = torch.utils.data.Subset(dataset, indexes)\n",
    "    loader = torch.utils.data.DataLoader(dataset, batch_size=N_SAMPLES)\n",
    "    x, y = next(iter(loader))\n",
    "    x, y = x.to(device), y.to(device)\n",
    "    return x, y\n",
    "\n",
    "\n",
    "model = load_model()\n",
    "# get samples from the dataset\n",
    "N_SAMPLES = 10\n",
    "images, labels = load_data('data', 'CIFAR10', num_samples=N_SAMPLES)\n",
    "epsilons = np.linspace(0.0, 8 / 255, num=3)"
   ],
   "metadata": {
    "collapsed": false,
    "pycharm": {
     "name": "#%%\n"
    }
   }
  },
  {
   "cell_type": "markdown",
   "source": [
    "# Foolbox evaluation\n"
   ],
   "metadata": {
    "collapsed": false
   }
  },
  {
   "cell_type": "code",
   "execution_count": 15,
   "outputs": [
    {
     "data": {
      "text/plain": "<matplotlib.legend.Legend at 0x7f2f4c82b670>"
     },
     "execution_count": 15,
     "metadata": {},
     "output_type": "execute_result"
    },
    {
     "data": {
      "text/plain": "<Figure size 432x288 with 1 Axes>",
      "image/png": "[encoded data removed]"
     },
     "metadata": {
      "needs_background": "light"
     },
     "output_type": "display_data"
    }
   ],
   "source": [
    "from attacks.fmn import LInfFMNAttack\n",
    "\n",
    "bounds = (0, 1)\n",
    "fmodel = fb.PyTorchModel(model, bounds=bounds)\n",
    "fmodel = fmodel.transform_bounds((0, 1))\n",
    "\n",
    "attack = fb.attacks.LinfPGD(abs_stepsize=0.01, random_start=False)\n",
    "\n",
    "raw, clipped, is_adv = attack(fmodel, images, labels, epsilons=epsilons)\n",
    "robust_accuracy_foolbox = 1 - is_adv.type(torch.FloatTensor).mean(axis=-1)\n",
    "\n",
    "plt.figure()\n",
    "plt.plot(epsilons, robust_accuracy_foolbox.numpy(), label='foolbox pgd')\n",
    "\n",
    "fmn = LInfFMNAttack(max_stepsize=10)\n",
    "raw_fmn, clipped_fmn, is_adv_fmn = fmn(fmodel, images, labels, epsilons=epsilons)\n",
    "robust_accuracy_foolbox_fmn = 1 - is_adv_fmn.type(torch.FloatTensor).mean(axis=-1)\n",
    "\n",
    "plt.plot(epsilons, robust_accuracy_foolbox_fmn.numpy(), label='fmn')\n",
    "\n",
    "plt.ylim([0, 1])\n",
    "plt.legend()\n"
   ],
   "metadata": {
    "collapsed": false,
    "pycharm": {
     "name": "#%%\n"
    }
   }
  },
  {
   "cell_type": "markdown",
   "source": [
    "# Secml Evaluation"
   ],
   "metadata": {
    "collapsed": false
   }
  },
  {
   "cell_type": "code",
   "execution_count": 16,
   "outputs": [],
   "source": [
    "clf = CClassifierPyTorch(model, input_shape=(3, 32, 32), pretrained=True,\n",
    "                         pretrained_classes=CArray(list(range(10))), preprocess=None)\n",
    "\n",
    "secml_attack = CFoolboxPGDLinf(clf, abs_stepsize=0.01, steps=40,\n",
    "                               random_start=False)  # same params as the foolbox defaults\n",
    "\n",
    "sec_eval = CSecEval(attack=secml_attack, param_name='epsilon', param_values=epsilons)\n",
    "\n",
    "test_set = secml.data.CDataset(CArray(images.view(N_SAMPLES, -1).cpu()), CArray(labels.cpu()))\n",
    "sec_eval.run_sec_eval(test_set)"
   ],
   "metadata": {
    "collapsed": false,
    "pycharm": {
     "name": "#%%\n"
    }
   }
  },
  {
   "cell_type": "code",
   "execution_count": 17,
   "outputs": [
    {
     "data": {
      "text/plain": "<matplotlib.legend.Legend at 0x7f2f4c7fbbb0>"
     },
     "execution_count": 17,
     "metadata": {},
     "output_type": "execute_result"
    },
    {
     "data": {
      "text/plain": "<Figure size 432x288 with 1 Axes>",
      "image/png": "[encoded data removed]"
     },
     "metadata": {
      "needs_background": "light"
     },
     "output_type": "display_data"
    }
   ],
   "source": [
    "robust_accuracy_secml = [(sec_eval.sec_eval_data.Y_pred[i] == sec_eval.sec_eval_data.Y).mean() for i in\n",
    "                         range(len(epsilons))]\n",
    "plt.figure()\n",
    "plt.plot(epsilons, robust_accuracy_foolbox.numpy(), label='foolbox')\n",
    "plt.plot(epsilons, robust_accuracy_secml, label='secml+foolbox')\n",
    "plt.plot(epsilons, robust_accuracy_foolbox_fmn.numpy(), label='fmn')\n",
    "\n",
    "plt.ylim([0, 1])\n",
    "\n",
    "plt.legend()"
   ],
   "metadata": {
    "collapsed": false,
    "pycharm": {
     "name": "#%%\n"
    }
   }
  },
  {
   "cell_type": "code",
   "execution_count": 18,
   "outputs": [
    {
     "name": "stdout",
     "output_type": "stream",
     "text": [
      "2021-12-09 16:55:51,820 - py.warnings - WARNING - /home/maurapintor/PycharmProjects/debug_attacks/indicators/indicators.py:137: RuntimeWarning: Mean of empty slice.\n",
      "  return (grad_norm[:how_many] <= threshold).mean()\n",
      "\n",
      "2021-12-09 16:55:51,821 - py.warnings - WARNING - /home/maurapintor/miniconda3/envs/debug_attacks/lib/python3.8/site-packages/numpy/core/_methods.py:189: RuntimeWarning: invalid value encountered in double_scalars\n",
      "  ret = ret.dtype.type(ret / rcount)\n",
      "\n",
      "   Attack Success  Silent Success  Break-point Angle  Increasing Loss  \\\n",
      "0             0.0             0.0           0.659288         0.682614   \n",
      "0             0.0             0.0           0.486804         0.693259   \n",
      "0             0.0             1.0           0.538541         0.623399   \n",
      "0             1.0             0.0           0.240400         0.620494   \n",
      "0             0.0             1.0           0.159201         0.672005   \n",
      "0             0.0             1.0           0.545638         0.696752   \n",
      "0             0.0             0.0           0.373150         0.807331   \n",
      "0             0.0             0.0           0.061933         0.680653   \n",
      "0             0.0             0.0           0.310576         0.563081   \n",
      "0             0.0             0.0           0.612215         0.695168   \n",
      "\n",
      "   Zero Gradients  Bad Initialization  Transfer Failure  \n",
      "0             0.0               False             False  \n",
      "0             0.0               False             False  \n",
      "0             0.0               False             False  \n",
      "0             NaN               False             False  \n",
      "0             0.0                True             False  \n",
      "0             0.0                True             False  \n",
      "0             0.0               False             False  \n",
      "0             0.0               False             False  \n",
      "0             0.0               False             False  \n",
      "0             0.0               False             False  \n"
     ]
    }
   ],
   "source": [
    "from indicators.indicators import compute_indicators\n",
    "\n",
    "all_indicators = []\n",
    "\n",
    "secml_attack_to_debug = CFoolboxPGDLinf(clf, abs_stepsize=0.01, steps=40,\n",
    "                               random_start=False, epsilons=8/255)\n",
    "\n",
    "for sample in range(N_SAMPLES):\n",
    "    x, y = test_set.X[sample, :], test_set.Y[sample]\n",
    "    pred = clf.predict(x)\n",
    "\n",
    "    indicators = compute_indicators(secml_attack_to_debug, x, y, clf, transfer_clf=None, n_restarts=3)\n",
    "    all_indicators.append(indicators)\n",
    "\n",
    "all_indicators_orig_eval = pd.concat(all_indicators, axis=0)\n",
    "\n",
    "with pd.option_context('display.max_rows', None,\n",
    "                       'display.max_columns', None):\n",
    "    print(all_indicators_orig_eval)\n"
   ],
   "metadata": {
    "collapsed": false,
    "pycharm": {
     "name": "#%%\n"
    }
   }
  },
  {
   "cell_type": "markdown",
   "source": [
    "# First, let's fix the implementation"
   ],
   "metadata": {
    "collapsed": false
   }
  },
  {
   "cell_type": "code",
   "execution_count": 19,
   "outputs": [
    {
     "data": {
      "text/plain": "<matplotlib.legend.Legend at 0x7f2f4c753c70>"
     },
     "execution_count": 19,
     "metadata": {},
     "output_type": "execute_result"
    },
    {
     "data": {
      "text/plain": "<Figure size 432x288 with 1 Axes>",
      "image/png": "[encoded data removed]"
     },
     "metadata": {
      "needs_background": "light"
     },
     "output_type": "display_data"
    }
   ],
   "source": [
    "from attacks.pgd_best_point import CFoolboxPGDBest\n",
    "\n",
    "patched_pgd = CFoolboxPGDBest(clf, abs_stepsize=0.01, steps=40,\n",
    "                               random_start=False, epsilons=8/255)\n",
    "\n",
    "sec_eval_patched = CSecEval(attack=patched_pgd, param_name='epsilon', param_values=epsilons)\n",
    "\n",
    "test_set = secml.data.CDataset(CArray(images.view(N_SAMPLES, -1).cpu()), CArray(labels.cpu()))\n",
    "sec_eval_patched.run_sec_eval(test_set)\n",
    "robust_accuracy_secml_patched = [(sec_eval_patched.sec_eval_data.Y_pred[i] == sec_eval_patched.sec_eval_data.Y).mean() for i in\n",
    "                         range(len(epsilons))]\n",
    "plt.figure()\n",
    "plt.plot(epsilons, robust_accuracy_foolbox.numpy(), label='foolbox')\n",
    "plt.plot(epsilons, robust_accuracy_secml, label='secml+foolbox')\n",
    "plt.plot(epsilons, robust_accuracy_secml_patched, label='secml+foolbox patched')\n",
    "plt.plot(epsilons, robust_accuracy_foolbox_fmn.numpy(), label='fmn')\n",
    "plt.ylim([0, 1])\n",
    "\n",
    "plt.legend()"
   ],
   "metadata": {
    "collapsed": false,
    "pycharm": {
     "name": "#%%\n"
    }
   }
  },
  {
   "cell_type": "code",
   "execution_count": 20,
   "outputs": [],
   "source": [
    "# Then, we can fix the noisy descent problem"
   ],
   "metadata": {
    "collapsed": false,
    "pycharm": {
     "name": "#%%\n"
    }
   }
  },
  {
   "cell_type": "code",
   "execution_count": 21,
   "outputs": [
    {
     "data": {
      "text/plain": "<matplotlib.legend.Legend at 0x7f2f4c761190>"
     },
     "execution_count": 21,
     "metadata": {},
     "output_type": "execute_result"
    },
    {
     "data": {
      "text/plain": "<Figure size 432x288 with 1 Axes>",
      "image/png": "[encoded data removed]"
     },
     "metadata": {
      "needs_background": "light"
     },
     "output_type": "display_data"
    }
   ],
   "source": [
    "from attacks.pgd_noisy_descent import CFoolboxAveragedPGD\n",
    "\n",
    "patched_and_smoothed_pgd = CFoolboxAveragedPGD(clf, abs_stepsize=0.01, steps=40,\n",
    "                               random_start=False, epsilons=8/255, k=20)  # k is the number of neighbors for smoothing\n",
    "\n",
    "sec_eval_patched_2 = CSecEval(attack=patched_and_smoothed_pgd, param_name='epsilon', param_values=epsilons)\n",
    "\n",
    "test_set = secml.data.CDataset(CArray(images.view(N_SAMPLES, -1).cpu()), CArray(labels.cpu()))\n",
    "sec_eval_patched_2.run_sec_eval(test_set)"
   ],
   "metadata": {
    "collapsed": false,
    "pycharm": {
     "name": "#%%\n"
    }
   }
  },
  {
   "cell_type": "code",
   "execution_count": 22,
   "outputs": [
    {
     "data": {
      "text/plain": "<matplotlib.legend.Legend at 0x7f2f63390bb0>"
     },
     "execution_count": 22,
     "metadata": {},
     "output_type": "execute_result"
    },
    {
     "data": {
      "text/plain": "<Figure size 432x288 with 1 Axes>",
      "image/png": "[encoded data removed]"
     },
     "metadata": {
      "needs_background": "light"
     },
     "output_type": "display_data"
    }
   ],
   "source": [
    "robust_accuracy_secml_patched_2 = [(sec_eval_patched_2.sec_eval_data.Y_pred[i] == sec_eval_patched_2.sec_eval_data.Y).mean() for i in\n",
    "                         range(len(epsilons))]\n",
    "plt.figure()\n",
    "plt.plot(epsilons, robust_accuracy_foolbox.numpy(), label='foolbox')\n",
    "plt.plot(epsilons, robust_accuracy_secml, label='secml+foolbox')\n",
    "plt.plot(epsilons, robust_accuracy_secml_patched, label='secml+foolbox 1st patch')\n",
    "plt.plot(epsilons, robust_accuracy_secml_patched_2, label='secml+foolbox 2nd patch')\n",
    "plt.plot(epsilons, robust_accuracy_foolbox_fmn.numpy(), label='fmn')\n",
    "plt.ylim([0, 1])\n",
    "\n",
    "plt.legend()\n"
   ],
   "metadata": {
    "collapsed": false,
    "pycharm": {
     "name": "#%%\n"
    }
   }
  },
  {
   "cell_type": "code",
   "execution_count": 21,
   "outputs": [],
   "source": [],
   "metadata": {
    "collapsed": false,
    "pycharm": {
     "name": "#%%"
    }
   }
  }
 ],
 "metadata": {
  "kernelspec": {
   "display_name": "Python 3",
   "language": "python",
   "name": "python3"
  },
  "language_info": {
   "codemirror_mode": {
    "name": "ipython",
    "version": 2
   },
   "file_extension": ".py",
   "mimetype": "text/x-python",
   "name": "python",
   "nbconvert_exporter": "python",
   "pygments_lexer": "ipython2",
   "version": "2.7.6"
  }
 },
 "nbformat": 4,
 "nbformat_minor": 0
}